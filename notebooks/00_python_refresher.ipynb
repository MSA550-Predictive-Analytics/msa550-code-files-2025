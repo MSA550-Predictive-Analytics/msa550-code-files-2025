{
  "nbformat": 4,
  "nbformat_minor": 0,
  "metadata": {
    "colab": {
      "provenance": [],
      "toc_visible": true
    },
    "kernelspec": {
      "name": "python3",
      "display_name": "Python 3"
    },
    "language_info": {
      "name": "python"
    }
  },
  "cells": [
    {
      "cell_type": "markdown",
      "source": [
        "# Python Refresher\n",
        "\n",
        "**Term:** Fall 2025  \n",
        "\n",
        "**Week/Topic:** Python Basics Refresh\n",
        "\n",
        "**Instructor:** Dr. Bushaj  \n",
        "\n",
        "\n",
        "### What we'll cover\n",
        "- Quick Colab setup & quality-of-life tips\n",
        "- Python essentials for analysts (variables, numbers, strings, conditionals, loops, functions)\n",
        "- Core containers in practice (lists & dicts; brief on tuples/sets)\n",
        "- File I/O (read/write)\n",
        "- NumPy for fast numeric work\n",
        "- Pandas for wrangling (select/filter/transform, groupby, merge, missing data, dates, categoricals, reshape)\n",
        "- Visualization with Matplotlib (+ optional Seaborn)\n",
        "- Handy modules: `math`, `statistics`, `random`"
      ],
      "metadata": {
        "id": "IIJrrSgt5UNV"
      }
    },
    {
      "cell_type": "markdown",
      "source": [
        "## Intro"
      ],
      "metadata": {
        "id": "9VsQTvuDi3vl"
      }
    },
    {
      "cell_type": "code",
      "source": [
        "# this is a comment\n",
        "print(\"Hello MSA!\")\n",
        "\n",
        "\n",
        "\n",
        "result = 5 + 5\n",
        "print(result)\n",
        "\n",
        "import math\n",
        "\n",
        "print(math.sqrt(25))"
      ],
      "metadata": {
        "colab": {
          "base_uri": "https://localhost:8080/"
        },
        "id": "wqIbzFQv5dxd",
        "outputId": "3bb6f830-f5db-46cb-f44c-6762bcc2032e"
      },
      "execution_count": null,
      "outputs": [
        {
          "output_type": "stream",
          "name": "stdout",
          "text": [
            "Hello MSA!\n",
            "10\n",
            "5.0\n"
          ]
        }
      ]
    },
    {
      "cell_type": "code",
      "source": [
        "#to look at library components we can use the help() function\n",
        "help(math)"
      ],
      "metadata": {
        "id": "6IUXhQR87iHV"
      },
      "execution_count": null,
      "outputs": []
    },
    {
      "cell_type": "markdown",
      "source": [
        "## Google Colab Basics"
      ],
      "metadata": {
        "id": "irgzsRNS7yMs"
      }
    },
    {
      "cell_type": "code",
      "source": [
        "#mounting different content\n",
        "\n",
        "from google.colab import drive\n",
        "drive.mount('/content/drive/MyDrive/SUNY/Class Material/2025 Fall/MSA550/Class 3 - September 1/Organization Example/data')\n"
      ],
      "metadata": {
        "id": "bKyNg1c270I1"
      },
      "execution_count": null,
      "outputs": []
    },
    {
      "cell_type": "code",
      "source": [
        "# Magic commend for timed execution -- %%time has to be the first command of the cell\n",
        "\n",
        "%%time\n",
        "\n",
        "for i in range(1000000):\n",
        "  pass"
      ],
      "metadata": {
        "colab": {
          "base_uri": "https://localhost:8080/"
        },
        "id": "ZDBM5-nV8mNV",
        "outputId": "61e55e69-a152-453a-a03f-d99e85e8941c"
      },
      "execution_count": null,
      "outputs": [
        {
          "output_type": "stream",
          "name": "stdout",
          "text": [
            "CPU times: user 52.2 ms, sys: 934 µs, total: 53.1 ms\n",
            "Wall time: 53.8 ms\n"
          ]
        }
      ]
    },
    {
      "cell_type": "markdown",
      "source": [
        "## Variables"
      ],
      "metadata": {
        "id": "AFO9zaDi9o5s"
      }
    },
    {
      "cell_type": "code",
      "source": [
        "# basic value assignment\n",
        "\n",
        "x = 5\n",
        "y = \"hello\"\n",
        "z = 5.5\n",
        "\n",
        "\n",
        "\n",
        "#we can also do multiple assignment\n",
        "a, b, c = 1, 2, 3\n",
        "\n",
        "\n",
        "\n",
        "print(\"Type of x: \", type(x))\n",
        "print(\"Type of y: \", type(y))\n",
        "print(\"Type of z: \", type(z))\n",
        "\n",
        "\n",
        "# variables are exactly what their name says\n",
        "x = \"now I am a string\"\n",
        "print(\"Type of x: \", type(x))\n"
      ],
      "metadata": {
        "colab": {
          "base_uri": "https://localhost:8080/"
        },
        "id": "EZuruaLs9qXu",
        "outputId": "d7498527-418a-4436-e181-e64f524e89cb"
      },
      "execution_count": null,
      "outputs": [
        {
          "output_type": "stream",
          "name": "stdout",
          "text": [
            "Type of x:  <class 'int'>\n",
            "Type of y:  <class 'str'>\n",
            "Type of z:  <class 'float'>\n",
            "Type of x:  <class 'str'>\n"
          ]
        }
      ]
    },
    {
      "cell_type": "markdown",
      "source": [
        "## Input & Output"
      ],
      "metadata": {
        "id": "-d6x_xCL-zI3"
      }
    },
    {
      "cell_type": "code",
      "source": [
        "# basic input\n",
        "\n",
        "name = input(\"What is your name? \")\n",
        "print(\"Hello\", name)\n",
        "\n"
      ],
      "metadata": {
        "colab": {
          "base_uri": "https://localhost:8080/"
        },
        "id": "h2dTIndQ-2kG",
        "outputId": "7406fdaa-f5d7-4209-ba24-5db455c5c26b"
      },
      "execution_count": null,
      "outputs": [
        {
          "output_type": "stream",
          "name": "stdout",
          "text": [
            "What is your name? sabah\n",
            "Hello sabah\n"
          ]
        }
      ]
    },
    {
      "cell_type": "code",
      "source": [
        "#writing to a file\n",
        "\n",
        "with open(\"myFile.txt\", \"w\") as file:\n",
        "  file.write(\"This is a line of text!\")\n",
        "  file.write(\"\\nThis is another line of text!\")"
      ],
      "metadata": {
        "id": "wb2Ka5Wq_UQv"
      },
      "execution_count": null,
      "outputs": []
    },
    {
      "cell_type": "code",
      "source": [
        "# reading from a file\n",
        "\n",
        "with open(\"myFile.txt\", \"r\") as f:\n",
        "  content = f.read()\n",
        "  print(content)"
      ],
      "metadata": {
        "colab": {
          "base_uri": "https://localhost:8080/"
        },
        "id": "sgpVAO3a_-qx",
        "outputId": "e9a1ceb7-2288-43d6-f932-17b1d1889a19"
      },
      "execution_count": null,
      "outputs": [
        {
          "output_type": "stream",
          "name": "stdout",
          "text": [
            "This is a line of text!\n",
            "This is another line of text!\n"
          ]
        }
      ]
    },
    {
      "cell_type": "markdown",
      "source": [
        "## Numbers"
      ],
      "metadata": {
        "id": "y2WOeMPuAjjA"
      }
    },
    {
      "cell_type": "code",
      "source": [
        "# integer operations\n",
        "\n",
        "a = 5\n",
        "b = 3\n",
        "\n",
        "\n",
        "print(\"a + b = \", a + b)\n",
        "print(\"a - b = \", a - b)\n",
        "print(\"a * b = \", a * b)\n",
        "print(\"a / b = \", a / b)\n",
        "\n",
        "print(\"a ** b - Exp = \", a**b)\n",
        "print(\"a % b = \", a % b)\n",
        "\n",
        "\n",
        "\n",
        "## float operations\n",
        "x = 3.14345346\n",
        "y = 2.75\n",
        "\n",
        "print(\"Rounded x: \", round(x, 2))\n",
        "\n",
        "## math and other modules\n",
        "print(\"The sin of 270 is: \", math.sin(270))"
      ],
      "metadata": {
        "colab": {
          "base_uri": "https://localhost:8080/"
        },
        "id": "0XqTS4PcAoBW",
        "outputId": "945955e4-965c-402d-d851-17f021094703"
      },
      "execution_count": null,
      "outputs": [
        {
          "output_type": "stream",
          "name": "stdout",
          "text": [
            "a + b =  8\n",
            "a - b =  2\n",
            "a * b =  15\n",
            "a / b =  1.6666666666666667\n",
            "a ** b - Exp =  125\n",
            "a % b =  2\n",
            "Rounded x:  3.14\n",
            "The sin of 270 is:  -0.1760459464712114\n"
          ]
        }
      ]
    }
  ]
}